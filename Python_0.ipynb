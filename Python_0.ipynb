{
 "cells": [
  {
   "cell_type": "code",
   "execution_count": 1,
   "id": "4ca74b69",
   "metadata": {},
   "outputs": [
    {
     "name": "stdout",
     "output_type": "stream",
     "text": [
      "hello\n"
     ]
    }
   ],
   "source": [
    "print('hello')\n"
   ]
  },
  {
   "cell_type": "code",
   "execution_count": 8,
   "id": "65bf6845",
   "metadata": {},
   "outputs": [
    {
     "name": "stdout",
     "output_type": "stream",
     "text": [
      "hello olga\n"
     ]
    }
   ],
   "source": [
    "print('hello {}' .format ('olga'))\n"
   ]
  },
  {
   "cell_type": "code",
   "execution_count": 9,
   "id": "57b40c57",
   "metadata": {},
   "outputs": [],
   "source": [
    "m=[1,2,3]"
   ]
  },
  {
   "cell_type": "code",
   "execution_count": 10,
   "id": "fd4155a5",
   "metadata": {},
   "outputs": [
    {
     "data": {
      "text/plain": [
       "[1, 2, 3]"
      ]
     },
     "execution_count": 10,
     "metadata": {},
     "output_type": "execute_result"
    }
   ],
   "source": [
    "m"
   ]
  },
  {
   "cell_type": "code",
   "execution_count": 11,
   "id": "98529a90",
   "metadata": {},
   "outputs": [],
   "source": [
    "m[0]=8"
   ]
  },
  {
   "cell_type": "code",
   "execution_count": 12,
   "id": "2f1859ff",
   "metadata": {},
   "outputs": [
    {
     "data": {
      "text/plain": [
       "[8, 2, 3]"
      ]
     },
     "execution_count": 12,
     "metadata": {},
     "output_type": "execute_result"
    }
   ],
   "source": [
    "m"
   ]
  },
  {
   "cell_type": "code",
   "execution_count": 13,
   "id": "2930b2e1",
   "metadata": {},
   "outputs": [],
   "source": [
    "t=('a','b','c')"
   ]
  },
  {
   "cell_type": "code",
   "execution_count": 14,
   "id": "dd10ea7c",
   "metadata": {},
   "outputs": [
    {
     "data": {
      "text/plain": [
       "('a', 'b', 'c')"
      ]
     },
     "execution_count": 14,
     "metadata": {},
     "output_type": "execute_result"
    }
   ],
   "source": [
    "t"
   ]
  },
  {
   "cell_type": "code",
   "execution_count": 16,
   "id": "fd5314c6",
   "metadata": {},
   "outputs": [],
   "source": [
    "print ='hello'"
   ]
  },
  {
   "cell_type": "code",
   "execution_count": 17,
   "id": "27bd1fc6",
   "metadata": {},
   "outputs": [
    {
     "data": {
      "text/plain": [
       "'hello'"
      ]
     },
     "execution_count": 17,
     "metadata": {},
     "output_type": "execute_result"
    }
   ],
   "source": [
    "print"
   ]
  },
  {
   "cell_type": "code",
   "execution_count": 18,
   "id": "89b78bac",
   "metadata": {},
   "outputs": [
    {
     "data": {
      "text/plain": [
       "'e'"
      ]
     },
     "execution_count": 18,
     "metadata": {},
     "output_type": "execute_result"
    }
   ],
   "source": [
    "print[1]"
   ]
  },
  {
   "cell_type": "code",
   "execution_count": 22,
   "id": "129cc7b5",
   "metadata": {},
   "outputs": [
    {
     "data": {
      "text/plain": [
       "'olleh'"
      ]
     },
     "execution_count": 22,
     "metadata": {},
     "output_type": "execute_result"
    }
   ],
   "source": [
    "print[::-1]"
   ]
  },
  {
   "cell_type": "code",
   "execution_count": 25,
   "id": "205780ab",
   "metadata": {},
   "outputs": [],
   "source": [
    "list3 = [1,2,[3,4,'Hello']]"
   ]
  },
  {
   "cell_type": "code",
   "execution_count": 26,
   "id": "7f22ea07",
   "metadata": {},
   "outputs": [
    {
     "data": {
      "text/plain": [
       "[1, 2, [3, 4, 'Hello']]"
      ]
     },
     "execution_count": 26,
     "metadata": {},
     "output_type": "execute_result"
    }
   ],
   "source": [
    "list3"
   ]
  },
  {
   "cell_type": "code",
   "execution_count": 30,
   "id": "e609a92a",
   "metadata": {},
   "outputs": [],
   "source": [
    "list3[2][2] ='Goodbye'"
   ]
  },
  {
   "cell_type": "code",
   "execution_count": 31,
   "id": "a5467251",
   "metadata": {},
   "outputs": [
    {
     "data": {
      "text/plain": [
       "[1, 2, [3, 4, 'Goodbye']]"
      ]
     },
     "execution_count": 31,
     "metadata": {},
     "output_type": "execute_result"
    }
   ],
   "source": [
    "list3"
   ]
  },
  {
   "cell_type": "code",
   "execution_count": 36,
   "id": "ccb89e94",
   "metadata": {},
   "outputs": [],
   "source": [
    " d={'k1':[{'nest_key':['this is deep',['hello']]}]}"
   ]
  },
  {
   "cell_type": "code",
   "execution_count": 50,
   "id": "1e729b37",
   "metadata": {},
   "outputs": [
    {
     "data": {
      "text/plain": [
       "['hello']"
      ]
     },
     "execution_count": 50,
     "metadata": {},
     "output_type": "execute_result"
    }
   ],
   "source": [
    "d['k1'][0]['nest_key'][1]"
   ]
  },
  {
   "cell_type": "code",
   "execution_count": 74,
   "id": "0a573d5e",
   "metadata": {},
   "outputs": [
    {
     "data": {
      "text/plain": [
       "False"
      ]
     },
     "execution_count": 74,
     "metadata": {},
     "output_type": "execute_result"
    }
   ],
   "source": [
    "hungry"
   ]
  },
  {
   "cell_type": "code",
   "execution_count": 15,
   "id": "2c41fe5f",
   "metadata": {},
   "outputs": [
    {
     "name": "stdout",
     "output_type": "stream",
     "text": [
      "2\n",
      "4\n",
      "8\n"
     ]
    }
   ],
   "source": [
    "mylist=[1,2,3,4,5,8]\n",
    "\n",
    "for num in mylist:\n",
    "    \n",
    "      if num % 2 == 0:\n",
    "            print(num)"
   ]
  },
  {
   "cell_type": "code",
   "execution_count": 38,
   "id": "54fd0416",
   "metadata": {},
   "outputs": [],
   "source": [
    "st = 'Print only the words that start with s in this sentence'"
   ]
  },
  {
   "cell_type": "code",
   "execution_count": 84,
   "id": "8f24f0ad",
   "metadata": {},
   "outputs": [
    {
     "name": "stdout",
     "output_type": "stream",
     "text": [
      "start\n",
      "s\n",
      "sentence\n"
     ]
    }
   ],
   "source": [
    "for num in st.split():\n",
    "    if num[0]   == 's':\n",
    "         print (num)"
   ]
  },
  {
   "cell_type": "code",
   "execution_count": 92,
   "id": "f52d7385",
   "metadata": {},
   "outputs": [],
   "source": [
    "numbers =[5,2,4,1,3,6,9,8,10]"
   ]
  },
  {
   "cell_type": "code",
   "execution_count": 100,
   "id": "2367f6bf",
   "metadata": {},
   "outputs": [
    {
     "name": "stdout",
     "output_type": "stream",
     "text": [
      "2\n",
      "4\n",
      "6\n",
      "8\n",
      "10\n"
     ]
    }
   ],
   "source": [
    "for num in numbers:\n",
    "    if num %2==0:\n",
    "         print (num)\n"
   ]
  },
  {
   "cell_type": "code",
   "execution_count": 113,
   "id": "b07270e0",
   "metadata": {},
   "outputs": [],
   "source": [
    "list = [  num**1 for num in range (0,51,3)]"
   ]
  },
  {
   "cell_type": "code",
   "execution_count": 114,
   "id": "30505065",
   "metadata": {},
   "outputs": [
    {
     "name": "stdout",
     "output_type": "stream",
     "text": [
      "[0, 3, 6, 9, 12, 15, 18, 21, 24, 27, 30, 33, 36, 39, 42, 45, 48]\n"
     ]
    }
   ],
   "source": [
    "print (list)"
   ]
  },
  {
   "cell_type": "code",
   "execution_count": 115,
   "id": "bc102653",
   "metadata": {},
   "outputs": [],
   "source": [
    "st = 'Print every word in this sentence that has an even number of letters'"
   ]
  },
  {
   "cell_type": "code",
   "execution_count": 131,
   "id": "4909104c",
   "metadata": {},
   "outputs": [
    {
     "name": "stdout",
     "output_type": "stream",
     "text": [
      "even\n",
      "even\n",
      "even\n",
      "even\n",
      "even\n",
      "even\n",
      "even\n",
      "even\n",
      "even\n"
     ]
    }
   ],
   "source": [
    "for num in st.split():\n",
    "    if len(num) %2==0:\n",
    "        print('even')"
   ]
  },
  {
   "cell_type": "code",
   "execution_count": 127,
   "id": "9cb77e4a",
   "metadata": {},
   "outputs": [
    {
     "data": {
      "text/plain": [
       "'Print every word in this sentence that has an even number of letters'"
      ]
     },
     "execution_count": 127,
     "metadata": {},
     "output_type": "execute_result"
    }
   ],
   "source": [
    "st"
   ]
  },
  {
   "cell_type": "code",
   "execution_count": 143,
   "id": "8515614a",
   "metadata": {},
   "outputs": [
    {
     "name": "stdout",
     "output_type": "stream",
     "text": [
      "fizz\n",
      "buzz\n",
      "fizz\n",
      "fizz\n",
      "buzz\n",
      "fizz\n",
      "fizzbuzz\n",
      "fizz\n",
      "buzz\n",
      "fizz\n",
      "buzz\n",
      "fizz\n",
      "fizz\n",
      "buzz\n",
      "fizz\n",
      "fizzbuzz\n",
      "fizz\n",
      "buzz\n",
      "fizz\n",
      "buzz\n",
      "fizz\n",
      "fizz\n",
      "buzz\n",
      "fizz\n",
      "fizzbuzz\n",
      "fizz\n",
      "buzz\n",
      "fizz\n",
      "buzz\n",
      "fizz\n",
      "fizz\n",
      "buzz\n",
      "fizz\n",
      "fizzbuzz\n",
      "fizz\n",
      "buzz\n",
      "fizz\n",
      "buzz\n",
      "fizz\n",
      "fizz\n",
      "buzz\n",
      "fizz\n",
      "fizzbuzz\n",
      "fizz\n",
      "buzz\n",
      "fizz\n",
      "buzz\n",
      "fizz\n",
      "fizz\n",
      "buzz\n",
      "fizz\n",
      "fizzbuzz\n",
      "fizz\n",
      "buzz\n",
      "fizz\n",
      "buzz\n",
      "fizz\n",
      "fizz\n",
      "buzz\n"
     ]
    }
   ],
   "source": [
    "for num in range (1,101):\n",
    "    if num%3 == 0 and num%5 == 0:\n",
    "        print ('fizzbuzz')\n",
    "    if num%3 == 0:\n",
    "        print('fizz')\n",
    "    if num%5 == 0:\n",
    "        print ('buzz')\n",
    "   "
   ]
  },
  {
   "cell_type": "code",
   "execution_count": 144,
   "id": "b8028c24",
   "metadata": {},
   "outputs": [],
   "source": [
    "st = 'Create a list of the first letters of every word in this string'"
   ]
  },
  {
   "cell_type": "code",
   "execution_count": 147,
   "id": "87196193",
   "metadata": {},
   "outputs": [
    {
     "data": {
      "text/plain": [
       "['Create',\n",
       " 'a',\n",
       " 'list',\n",
       " 'of',\n",
       " 'the',\n",
       " 'first',\n",
       " 'letters',\n",
       " 'of',\n",
       " 'every',\n",
       " 'word',\n",
       " 'in',\n",
       " 'this',\n",
       " 'string']"
      ]
     },
     "execution_count": 147,
     "metadata": {},
     "output_type": "execute_result"
    }
   ],
   "source": [
    "[word for word in st.split()]"
   ]
  },
  {
   "cell_type": "code",
   "execution_count": 154,
   "id": "3699ad42",
   "metadata": {},
   "outputs": [],
   "source": [
    "me ='olga is here'"
   ]
  },
  {
   "cell_type": "code",
   "execution_count": 155,
   "id": "b4538bf5",
   "metadata": {},
   "outputs": [
    {
     "data": {
      "text/plain": [
       "['olga', 'is', 'here']"
      ]
     },
     "execution_count": 155,
     "metadata": {},
     "output_type": "execute_result"
    }
   ],
   "source": [
    "[word for word in me.split()]"
   ]
  },
  {
   "cell_type": "code",
   "execution_count": 156,
   "id": "16b81b6b",
   "metadata": {},
   "outputs": [],
   "source": [
    "def add_function(num1,num2):\n",
    "    return num1+num2"
   ]
  },
  {
   "cell_type": "code",
   "execution_count": 158,
   "id": "b279bd76",
   "metadata": {},
   "outputs": [
    {
     "data": {
      "text/plain": [
       "60"
      ]
     },
     "execution_count": 158,
     "metadata": {},
     "output_type": "execute_result"
    }
   ],
   "source": [
    "add_function(5,55)"
   ]
  },
  {
   "cell_type": "code",
   "execution_count": 173,
   "id": "dc6e77fa",
   "metadata": {},
   "outputs": [],
   "source": [
    "def say_hello(name):\n",
    "    print(f'hello {name}')"
   ]
  },
  {
   "cell_type": "code",
   "execution_count": 174,
   "id": "ff8abffd",
   "metadata": {},
   "outputs": [
    {
     "name": "stdout",
     "output_type": "stream",
     "text": [
      "hello olga\n"
     ]
    }
   ],
   "source": [
    "say_hello('olga')"
   ]
  },
  {
   "cell_type": "code",
   "execution_count": 6,
   "id": "257e5f07",
   "metadata": {},
   "outputs": [
    {
     "data": {
      "text/plain": [
       "0"
      ]
     },
     "execution_count": 6,
     "metadata": {},
     "output_type": "execute_result"
    }
   ],
   "source": [
    "10%1"
   ]
  },
  {
   "cell_type": "code",
   "execution_count": 7,
   "id": "b137c089",
   "metadata": {},
   "outputs": [
    {
     "data": {
      "text/plain": [
       "2"
      ]
     },
     "execution_count": 7,
     "metadata": {},
     "output_type": "execute_result"
    }
   ],
   "source": [
    "8%6"
   ]
  },
  {
   "cell_type": "code",
   "execution_count": 46,
   "id": "93d29718",
   "metadata": {},
   "outputs": [],
   "source": [
    "def even_check(number):\n",
    "    result = number % 2 == 0\n",
    "    return result"
   ]
  },
  {
   "cell_type": "code",
   "execution_count": 47,
   "id": "2e0ad85e",
   "metadata": {},
   "outputs": [
    {
     "data": {
      "text/plain": [
       "False"
      ]
     },
     "execution_count": 47,
     "metadata": {},
     "output_type": "execute_result"
    }
   ],
   "source": [
    "even_check(3)"
   ]
  },
  {
   "cell_type": "code",
   "execution_count": 7,
   "id": "262eb096",
   "metadata": {},
   "outputs": [],
   "source": [
    "work_hours = [('abby',100),('billy',200),('cassie',300)]"
   ]
  },
  {
   "cell_type": "code",
   "execution_count": 8,
   "id": "2294602a",
   "metadata": {},
   "outputs": [],
   "source": [
    "def employee_check(work_hours):\n",
    "\n",
    "\n",
    "    current_max = 0\n",
    "    employee_of_month = ''\n",
    "    \n",
    "    for employee,hours in work_hours:\n",
    "        if hours>current_max:\n",
    "            current_max = hours\n",
    "            employee_of_month = employee\n",
    "        else:\n",
    "            pass\n",
    "    return(employee_of_month,current_max)    "
   ]
  },
  {
   "cell_type": "code",
   "execution_count": 9,
   "id": "7d0e95a7",
   "metadata": {},
   "outputs": [],
   "source": [
    "result = employee_check(work_hours)"
   ]
  },
  {
   "cell_type": "code",
   "execution_count": 10,
   "id": "c2d52c20",
   "metadata": {},
   "outputs": [
    {
     "data": {
      "text/plain": [
       "('cassie', 300)"
      ]
     },
     "execution_count": 10,
     "metadata": {},
     "output_type": "execute_result"
    }
   ],
   "source": [
    "result"
   ]
  },
  {
   "cell_type": "code",
   "execution_count": 14,
   "id": "35b1bb4f",
   "metadata": {},
   "outputs": [],
   "source": [
    "example = [1,2,3,4,5]"
   ]
  },
  {
   "cell_type": "code",
   "execution_count": 15,
   "id": "abed5273",
   "metadata": {},
   "outputs": [],
   "source": [
    "mylist= [' ','0',' ']"
   ]
  },
  {
   "cell_type": "code",
   "execution_count": 18,
   "id": "e23cb594",
   "metadata": {},
   "outputs": [],
   "source": [
    "def myfunc(a,b):\n",
    "    return a*b"
   ]
  },
  {
   "cell_type": "code",
   "execution_count": 19,
   "id": "4028bc6a",
   "metadata": {},
   "outputs": [
    {
     "data": {
      "text/plain": [
       "60"
      ]
     },
     "execution_count": 19,
     "metadata": {},
     "output_type": "execute_result"
    }
   ],
   "source": [
    "myfunc(5,12)"
   ]
  },
  {
   "cell_type": "code",
   "execution_count": 30,
   "id": "98cd6471",
   "metadata": {},
   "outputs": [],
   "source": [
    "def myfunke(a,b):\n",
    "    return sum((a,b))"
   ]
  },
  {
   "cell_type": "code",
   "execution_count": 31,
   "id": "9cd9cd87",
   "metadata": {},
   "outputs": [
    {
     "data": {
      "text/plain": [
       "10"
      ]
     },
     "execution_count": 31,
     "metadata": {},
     "output_type": "execute_result"
    }
   ],
   "source": [
    "myfunke(5,5)"
   ]
  },
  {
   "cell_type": "code",
   "execution_count": 37,
   "id": "3a1f5ce8",
   "metadata": {},
   "outputs": [],
   "source": [
    "def myfunk(**kwargs):\n",
    "    if 'fruit' in kwargs:\n",
    "        print('My fruit of choise is {}'.format(kwargs['fruit']))\n",
    "    else:\n",
    "        print('I did not find any fruit here')"
   ]
  },
  {
   "cell_type": "code",
   "execution_count": 70,
   "id": "89cb8f63",
   "metadata": {},
   "outputs": [
    {
     "name": "stdout",
     "output_type": "stream",
     "text": [
      "My fruit of choise is mango\n"
     ]
    }
   ],
   "source": [
    "myfunk(fruit='mango')"
   ]
  },
  {
   "cell_type": "code",
   "execution_count": 85,
   "id": "9b432eec",
   "metadata": {},
   "outputs": [],
   "source": [
    "def lesser_of_two_evens(a,b):\n",
    "    if a%2 == 0 and b%2 ==0:\n",
    "        if a<b:\n",
    "            result = a\n",
    "        else:\n",
    "            result = b\n",
    "    else:\n",
    "        if a>b:\n",
    "            result = a\n",
    "        else:\n",
    "            result = b\n",
    "        return result"
   ]
  },
  {
   "cell_type": "code",
   "execution_count": 90,
   "id": "a5b2f2de",
   "metadata": {},
   "outputs": [],
   "source": [
    "lesser_of_two_evens(2,4)"
   ]
  },
  {
   "cell_type": "code",
   "execution_count": 100,
   "id": "c44e4a25",
   "metadata": {},
   "outputs": [],
   "source": [
    "def square(num):\n",
    "    return num**2"
   ]
  },
  {
   "cell_type": "code",
   "execution_count": 101,
   "id": "1d3cb96c",
   "metadata": {},
   "outputs": [],
   "source": [
    "my_t=[1,2,3,4,5]"
   ]
  },
  {
   "cell_type": "code",
   "execution_count": null,
   "id": "f9085951",
   "metadata": {},
   "outputs": [],
   "source": []
  },
  {
   "cell_type": "code",
   "execution_count": 7,
   "id": "b17141d9",
   "metadata": {},
   "outputs": [
    {
     "name": "stdout",
     "output_type": "stream",
     "text": [
      "hi\n"
     ]
    }
   ],
   "source": [
    "print('hi')"
   ]
  },
  {
   "cell_type": "code",
   "execution_count": 18,
   "id": "c0a7f9f5",
   "metadata": {},
   "outputs": [],
   "source": [
    "def vol(rad):\n",
    "    return(4/3)*(3.14)*(rad**3)"
   ]
  },
  {
   "cell_type": "code",
   "execution_count": 20,
   "id": "6115fe52",
   "metadata": {},
   "outputs": [
    {
     "data": {
      "text/plain": [
       "33.49333333333333"
      ]
     },
     "execution_count": 20,
     "metadata": {},
     "output_type": "execute_result"
    }
   ],
   "source": [
    "vol(2)"
   ]
  },
  {
   "cell_type": "code",
   "execution_count": 71,
   "id": "1f74dc38",
   "metadata": {},
   "outputs": [],
   "source": [
    "def game(row1,row2,row3):\n",
    "    print(row1)\n",
    "    print(row2)\n",
    "    print(row3)\n"
   ]
  },
  {
   "cell_type": "code",
   "execution_count": 72,
   "id": "c50fd968",
   "metadata": {},
   "outputs": [],
   "source": [
    "row1 = [' ', ' ', ' ']\n",
    "row2 = [' ', ' ', ' ']\n",
    "row3 = [' ', ' ', ' ']"
   ]
  },
  {
   "cell_type": "code",
   "execution_count": 73,
   "id": "0911da09",
   "metadata": {},
   "outputs": [
    {
     "name": "stdout",
     "output_type": "stream",
     "text": [
      "[' ', ' ', ' ']\n",
      "[' ', ' ', ' ']\n",
      "[' ', ' ', ' ']\n"
     ]
    }
   ],
   "source": [
    "game(row1,row2,row3)"
   ]
  },
  {
   "cell_type": "code",
   "execution_count": 75,
   "id": "bfe9faeb",
   "metadata": {},
   "outputs": [],
   "source": [
    "row1[1]='X'"
   ]
  },
  {
   "cell_type": "code",
   "execution_count": 77,
   "id": "d31cb505",
   "metadata": {},
   "outputs": [
    {
     "name": "stdout",
     "output_type": "stream",
     "text": [
      "[' ', 'X', ' ']\n",
      "[' ', ' ', ' ']\n",
      "[' ', ' ', ' ']\n"
     ]
    }
   ],
   "source": [
    "game(row1,row2,row3)"
   ]
  }
 ],
 "metadata": {
  "kernelspec": {
   "display_name": "Python 3",
   "language": "python",
   "name": "python3"
  },
  "language_info": {
   "codemirror_mode": {
    "name": "ipython",
    "version": 3
   },
   "file_extension": ".py",
   "mimetype": "text/x-python",
   "name": "python",
   "nbconvert_exporter": "python",
   "pygments_lexer": "ipython3",
   "version": "3.8.8"
  }
 },
 "nbformat": 4,
 "nbformat_minor": 5
}
